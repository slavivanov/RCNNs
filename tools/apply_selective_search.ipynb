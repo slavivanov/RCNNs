{
 "cells": [
  {
   "cell_type": "markdown",
   "metadata": {},
   "source": [
    "#### Compute the Regions of Interest for each image\n",
    "using the Matlab Selective Search."
   ]
  },
  {
   "cell_type": "markdown",
   "metadata": {},
   "source": [
    "##### Imports"
   ]
  },
  {
   "cell_type": "code",
   "execution_count": 66,
   "metadata": {
    "ExecuteTime": {
     "end_time": "2017-05-05T07:59:16.621261Z",
     "start_time": "2017-05-05T07:59:16.611277Z"
    }
   },
   "outputs": [],
   "source": [
    "import os\n",
    "import utils\n",
    "import importlib\n",
    "importlib.reload(utils)\n",
    "from utils import *\n",
    "from scipy import io\n",
    "import numpy as np\n",
    "import time\n",
    "import PIL\n",
    "import random\n",
    "\n",
    "from selective_search.selective_search_ijcv_with_python import selective_search\n",
    "importlib.reload(selective_search)\n",
    "from selective_search.selective_search_ijcv_with_python.selective_search \\\n",
    "    import get_windows\n",
    "\n",
    "from concurrent.futures import ThreadPoolExecutor, ProcessPoolExecutor"
   ]
  },
  {
   "cell_type": "markdown",
   "metadata": {
    "heading_collapsed": true
   },
   "source": [
    "##### Load the filenames make the filepath an absolute path to the image."
   ]
  },
  {
   "cell_type": "code",
   "execution_count": 2,
   "metadata": {
    "ExecuteTime": {
     "end_time": "2017-05-05T06:54:10.175972Z",
     "start_time": "2017-05-05T06:54:10.138435Z"
    },
    "hidden": true
   },
   "outputs": [
    {
     "data": {
      "text/plain": [
       "17125"
      ]
     },
     "execution_count": 2,
     "metadata": {},
     "output_type": "execute_result"
    }
   ],
   "source": [
    "filenames = load_array('intermediate/voc/filenames.bcolz')\n",
    "images_dir = '/home/slav/DL/RCNN'\n",
    "fullpaths = [os.path.join(images_dir, filename) \n",
    "                       for filename in filenames]\n",
    "len(fullpaths)"
   ]
  },
  {
   "cell_type": "markdown",
   "metadata": {
    "heading_collapsed": true
   },
   "source": [
    "##### Prepare a batch of 10 images and send it to the matlab function."
   ]
  },
  {
   "cell_type": "code",
   "execution_count": 3,
   "metadata": {
    "ExecuteTime": {
     "end_time": "2017-05-05T06:54:18.671546Z",
     "start_time": "2017-05-05T06:54:18.666278Z"
    },
    "hidden": true
   },
   "outputs": [],
   "source": [
    "matlab_path = '/usr/local/MATLAB/R2016a/bin/matlab'\n",
    "batch_size = 10\n",
    "def get_ss_regions(i):\n",
    "    print('@{} '.format(i), end='')\n",
    "    return [i, get_windows(fullpaths[i:i+batch_size], \n",
    "                       'selective_search_rcnn', \n",
    "                       matlab_path)]"
   ]
  },
  {
   "cell_type": "markdown",
   "metadata": {
    "ExecuteTime": {
     "end_time": "2017-05-04T21:08:58.236350Z",
     "start_time": "2017-05-04T21:08:58.233703Z"
    },
    "heading_collapsed": true
   },
   "source": [
    "##### Run the above function on all batches."
   ]
  },
  {
   "cell_type": "code",
   "execution_count": null,
   "metadata": {
    "ExecuteTime": {
     "end_time": "2017-05-05T06:53:33.677697Z",
     "start_time": "2017-05-05T06:53:29.260930Z"
    },
    "hidden": true
   },
   "outputs": [],
   "source": [
    "%%time\n",
    "num_samples = len(fullpaths)\n",
    "regions = []\n",
    "indexes = range(0, num_samples, batch_size)\n",
    "with ThreadPoolExecutor(max_workers=4) as executor:\n",
    "    regions = executor.map(get_ss_regions, indexes)"
   ]
  },
  {
   "cell_type": "markdown",
   "metadata": {
    "heading_collapsed": true
   },
   "source": [
    "##### Save"
   ]
  },
  {
   "cell_type": "code",
   "execution_count": 135,
   "metadata": {
    "ExecuteTime": {
     "end_time": "2017-05-05T06:28:24.610908Z",
     "start_time": "2017-05-05T06:28:24.605346Z"
    },
    "hidden": true
   },
   "outputs": [
    {
     "data": {
      "text/plain": [
       "1712"
      ]
     },
     "execution_count": 135,
     "metadata": {},
     "output_type": "execute_result"
    }
   ],
   "source": [
    "regions_computed = list(regions)\n",
    "len(regions_computed)"
   ]
  },
  {
   "cell_type": "code",
   "execution_count": 136,
   "metadata": {
    "ExecuteTime": {
     "end_time": "2017-05-05T06:29:42.593928Z",
     "start_time": "2017-05-05T06:29:40.687510Z"
    },
    "hidden": true
   },
   "outputs": [],
   "source": [
    "save_array('intermediate/voc/ss_matlab_computed_regions.bcolz', list(regions_computed))"
   ]
  },
  {
   "cell_type": "code",
   "execution_count": 4,
   "metadata": {
    "ExecuteTime": {
     "end_time": "2017-05-05T06:56:55.904257Z",
     "start_time": "2017-05-05T06:56:54.717878Z"
    },
    "hidden": true
   },
   "outputs": [],
   "source": [
    "regions_computed = load_array('intermediate/voc/ss_matlab_computed_regions.bcolz')"
   ]
  },
  {
   "cell_type": "markdown",
   "metadata": {
    "heading_collapsed": true
   },
   "source": [
    "##### Group regions by image\n",
    "The regions are currently grouped in batches. We should group them by the image they belong to."
   ]
  },
  {
   "cell_type": "code",
   "execution_count": null,
   "metadata": {
    "ExecuteTime": {
     "end_time": "2017-05-05T06:57:05.824963Z",
     "start_time": "2017-05-05T06:57:05.814497Z"
    },
    "hidden": true
   },
   "outputs": [],
   "source": [
    "regions_ordered = []\n",
    "for regions_batch in regions_computed:\n",
    "    for image_regions in regions_batch:\n",
    "        regions_ordered.append(image_regions)\n",
    "len(regions_ordered)"
   ]
  },
  {
   "cell_type": "markdown",
   "metadata": {
    "heading_collapsed": true
   },
   "source": [
    "##### Review"
   ]
  },
  {
   "cell_type": "code",
   "execution_count": null,
   "metadata": {
    "ExecuteTime": {
     "end_time": "2017-05-05T07:57:19.905246Z",
     "start_time": "2017-05-05T07:57:00.478586Z"
    },
    "hidden": true
   },
   "outputs": [],
   "source": [
    "img_index = 17124\n",
    "filename = filenames[img_index]\n",
    "rois = regions_ordered[img_index]\n",
    "image = PIL.Image.open(filename) #.resize((500, 500))\n",
    "rois_at_once = 50\n",
    "for index in range(0, len(rois), rois_at_once):\n",
    "    display_image_regions(image, rois[index:index+rois_at_once])"
   ]
  }
 ],
 "metadata": {
  "kernelspec": {
   "display_name": "Python [default]",
   "language": "python",
   "name": "python3"
  },
  "language_info": {
   "codemirror_mode": {
    "name": "ipython",
    "version": 3
   },
   "file_extension": ".py",
   "mimetype": "text/x-python",
   "name": "python",
   "nbconvert_exporter": "python",
   "pygments_lexer": "ipython3",
   "version": "3.6.0"
  },
  "notify_time": "5"
 },
 "nbformat": 4,
 "nbformat_minor": 2
}
