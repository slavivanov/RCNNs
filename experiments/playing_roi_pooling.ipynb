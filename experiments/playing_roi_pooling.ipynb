{
 "cells": [
  {
   "cell_type": "markdown",
   "metadata": {
    "heading_collapsed": true
   },
   "source": [
    "## Imports"
   ]
  },
  {
   "cell_type": "code",
   "execution_count": 1,
   "metadata": {
    "ExecuteTime": {
     "end_time": "2017-05-31T13:30:04.444630Z",
     "start_time": "2017-05-31T13:30:02.833079Z"
    },
    "hidden": true
   },
   "outputs": [],
   "source": [
    "import sys\n",
    "import os\n",
    "import importlib\n",
    "import shutil\n",
    "import numpy as np\n",
    "import threading\n",
    "# import keras\n",
    "import tqdm\n",
    "import _init_paths\n",
    "from concurrent.futures import ThreadPoolExecutor, ProcessPoolExecutor\n",
    "\n",
    "import selectivesearch\n",
    "importlib.reload(selectivesearch)\n",
    "from selectivesearch import get_selective_search_regions\n",
    "\n",
    "import PIL\n",
    "import tqdm\n",
    "import lib.utils.general as general; importlib.reload(general)\n",
    "from lib.utils.general import *\n",
    "\n",
    "import pascal_voc_reader\n",
    "\n",
    "import bbox_transform\n",
    "importlib.reload(bbox_transform)\n",
    "from bbox_transform import *\n",
    "\n",
    "import torch\n",
    "import torchvision\n",
    "from torch.autograd import Variable\n",
    "import torch.nn as nn\n",
    "import torch.nn.init as weight_init\n",
    "import torch.nn.functional as F\n",
    "\n",
    "# import dataset; importlib.reload(dataset); from dataset import *\n",
    "import dataset_roidb; importlib.reload(dataset_roidb)\n",
    "from dataset_roidb import Pascal_roidb\n",
    "\n",
    "import rcnn_utils\n",
    "importlib.reload(rcnn_utils)\n",
    "from rcnn_utils import *\n",
    "\n",
    "import data_utils\n",
    "importlib.reload(data_utils)\n",
    "from data_utils import *\n",
    "\n",
    "from IPython.core.debugger import Tracer\n",
    "from IPython.display import clear_output\n",
    "\n",
    "%matplotlib inline\n",
    "\n",
    "from roi_pooling.modules.roi_pool import RoIPool as RoIPool_GPU\n",
    "\n",
    "from utils.config import cfg"
   ]
  },
  {
   "cell_type": "markdown",
   "metadata": {
    "ExecuteTime": {
     "end_time": "2017-05-25T15:38:48.562085Z",
     "start_time": "2017-05-25T15:38:40.779429Z"
    },
    "heading_collapsed": true
   },
   "source": [
    "## Playing with RoI Polling"
   ]
  },
  {
   "cell_type": "code",
   "execution_count": 4,
   "metadata": {
    "ExecuteTime": {
     "end_time": "2017-05-31T13:30:37.889227Z",
     "start_time": "2017-05-31T13:30:37.126537Z"
    },
    "hidden": true
   },
   "outputs": [],
   "source": [
    "batch = train_set[1]"
   ]
  },
  {
   "cell_type": "code",
   "execution_count": 5,
   "metadata": {
    "ExecuteTime": {
     "end_time": "2017-05-31T13:30:38.935736Z",
     "start_time": "2017-05-31T13:30:38.925990Z"
    },
    "hidden": true
   },
   "outputs": [
    {
     "data": {
      "text/plain": [
       "{'bbox_targets': array([[  7.0000e+00,   0.0000e+00,  -5.3172e-03,   3.1685e-03,  -3.4773e-01],\n",
       "        [  0.0000e+00,   0.0000e+00,   0.0000e+00,   0.0000e+00,   0.0000e+00],\n",
       "        [  0.0000e+00,   0.0000e+00,   0.0000e+00,   0.0000e+00,   0.0000e+00],\n",
       "        ..., \n",
       "        [  0.0000e+00,   0.0000e+00,   0.0000e+00,   0.0000e+00,   0.0000e+00],\n",
       "        [  0.0000e+00,   0.0000e+00,   0.0000e+00,   0.0000e+00,   0.0000e+00],\n",
       "        [  0.0000e+00,   0.0000e+00,   0.0000e+00,   0.0000e+00,   0.0000e+00]], dtype=float32),\n",
       " 'boxes': array([[140,  49, 499, 329],\n",
       "        [  0,   0,  40,  37],\n",
       "        [  0,   0,  86,  37],\n",
       "        ..., \n",
       "        [227, 322, 246, 332],\n",
       "        [ 61, 323,  81, 332],\n",
       "        [356, 325, 375, 332]], dtype=uint16),\n",
       " 'flipped': False,\n",
       " 'gt_classes': array([7, 0, 0, ..., 0, 0, 0], dtype=int32),\n",
       " 'gt_overlaps': <2745x21 sparse matrix of type '<class 'numpy.float32'>'\n",
       " \twith 2175 stored elements in Compressed Sparse Row format>,\n",
       " 'height': 333,\n",
       " 'image': '../VOC/VOCdevkit/VOC2007/JPEGImages/000007.jpg',\n",
       " 'max_classes': array([7, 0, 0, ..., 7, 0, 7]),\n",
       " 'max_overlaps': array([  1.0000e+00,   0.0000e+00,   0.0000e+00, ...,   1.5807e-03,   0.0000e+00,   9.8795e-04], dtype=float32),\n",
       " 'seg_areas': array([ 101160.,       0.,       0., ...,       0.,       0.,       0.], dtype=float32),\n",
       " 'width': 500}"
      ]
     },
     "execution_count": 5,
     "metadata": {},
     "output_type": "execute_result"
    }
   ],
   "source": [
    "sample = train_set.samples[1]\n",
    "sample"
   ]
  },
  {
   "cell_type": "code",
   "execution_count": 6,
   "metadata": {
    "ExecuteTime": {
     "end_time": "2017-05-31T13:30:41.317723Z",
     "start_time": "2017-05-31T13:30:41.313275Z"
    },
    "hidden": true
   },
   "outputs": [
    {
     "data": {
      "text/plain": [
       "torch.Size([3, 600, 923])"
      ]
     },
     "execution_count": 6,
     "metadata": {},
     "output_type": "execute_result"
    }
   ],
   "source": [
    "batch[1].size()"
   ]
  },
  {
   "cell_type": "code",
   "execution_count": 7,
   "metadata": {
    "ExecuteTime": {
     "end_time": "2017-05-31T13:30:42.420505Z",
     "start_time": "2017-05-31T13:30:42.413996Z"
    },
    "hidden": true
   },
   "outputs": [],
   "source": [
    "rois = Variable(torch.Tensor([[0, 0, 0, 800, 600]]))"
   ]
  },
  {
   "cell_type": "code",
   "execution_count": 8,
   "metadata": {
    "ExecuteTime": {
     "end_time": "2017-05-31T13:30:44.814260Z",
     "start_time": "2017-05-31T13:30:44.808814Z"
    },
    "hidden": true
   },
   "outputs": [],
   "source": [
    "img = batch[1]"
   ]
  },
  {
   "cell_type": "code",
   "execution_count": 9,
   "metadata": {
    "ExecuteTime": {
     "end_time": "2017-05-31T13:30:50.766820Z",
     "start_time": "2017-05-31T13:30:50.761608Z"
    },
    "hidden": true
   },
   "outputs": [],
   "source": [
    "img_var = Variable(img.view((1,) + img.size()), volatile=True)"
   ]
  },
  {
   "cell_type": "code",
   "execution_count": 10,
   "metadata": {
    "ExecuteTime": {
     "end_time": "2017-05-31T13:31:02.855254Z",
     "start_time": "2017-05-31T13:30:54.626607Z"
    },
    "hidden": true
   },
   "outputs": [],
   "source": [
    "vgg = get_vgg_conv(1)"
   ]
  },
  {
   "cell_type": "code",
   "execution_count": 22,
   "metadata": {
    "ExecuteTime": {
     "end_time": "2017-05-26T11:54:32.704577Z",
     "start_time": "2017-05-26T11:54:32.701448Z"
    },
    "hidden": true
   },
   "outputs": [
    {
     "data": {
      "text/plain": [
       "Sequential (\n",
       "  (0): Conv2d(3, 64, kernel_size=(3, 3), stride=(1, 1), padding=(1, 1))\n",
       "  (1): ReLU (inplace)\n",
       "  (2): Conv2d(64, 64, kernel_size=(3, 3), stride=(1, 1), padding=(1, 1))\n",
       "  (3): ReLU (inplace)\n",
       "  (4): MaxPool2d (size=(2, 2), stride=(2, 2), dilation=(1, 1))\n",
       "  (5): Conv2d(64, 128, kernel_size=(3, 3), stride=(1, 1), padding=(1, 1))\n",
       "  (6): ReLU (inplace)\n",
       "  (7): Conv2d(128, 128, kernel_size=(3, 3), stride=(1, 1), padding=(1, 1))\n",
       "  (8): ReLU (inplace)\n",
       "  (9): MaxPool2d (size=(2, 2), stride=(2, 2), dilation=(1, 1))\n",
       "  (10): Conv2d(128, 256, kernel_size=(3, 3), stride=(1, 1), padding=(1, 1))\n",
       "  (11): ReLU (inplace)\n",
       "  (12): Conv2d(256, 256, kernel_size=(3, 3), stride=(1, 1), padding=(1, 1))\n",
       "  (13): ReLU (inplace)\n",
       "  (14): Conv2d(256, 256, kernel_size=(3, 3), stride=(1, 1), padding=(1, 1))\n",
       "  (15): ReLU (inplace)\n",
       "  (16): MaxPool2d (size=(2, 2), stride=(2, 2), dilation=(1, 1))\n",
       "  (17): Conv2d(256, 512, kernel_size=(3, 3), stride=(1, 1), padding=(1, 1))\n",
       "  (18): ReLU (inplace)\n",
       "  (19): Conv2d(512, 512, kernel_size=(3, 3), stride=(1, 1), padding=(1, 1))\n",
       "  (20): ReLU (inplace)\n",
       "  (21): Conv2d(512, 512, kernel_size=(3, 3), stride=(1, 1), padding=(1, 1))\n",
       "  (22): ReLU (inplace)\n",
       "  (23): MaxPool2d (size=(2, 2), stride=(2, 2), dilation=(1, 1))\n",
       "  (24): Conv2d(512, 512, kernel_size=(3, 3), stride=(1, 1), padding=(1, 1))\n",
       "  (25): ReLU (inplace)\n",
       "  (26): Conv2d(512, 512, kernel_size=(3, 3), stride=(1, 1), padding=(1, 1))\n",
       "  (27): ReLU (inplace)\n",
       "  (28): Conv2d(512, 512, kernel_size=(3, 3), stride=(1, 1), padding=(1, 1))\n",
       "  (29): ReLU (inplace)\n",
       ")"
      ]
     },
     "execution_count": 22,
     "metadata": {},
     "output_type": "execute_result"
    }
   ],
   "source": [
    "vgg"
   ]
  },
  {
   "cell_type": "code",
   "execution_count": 12,
   "metadata": {
    "ExecuteTime": {
     "end_time": "2017-05-31T13:31:10.957707Z",
     "start_time": "2017-05-31T13:31:10.950188Z"
    },
    "hidden": true
   },
   "outputs": [],
   "source": [
    "img = PIL.Image.open(sample['image'])"
   ]
  },
  {
   "cell_type": "code",
   "execution_count": 13,
   "metadata": {
    "ExecuteTime": {
     "end_time": "2017-05-31T13:31:11.931544Z",
     "start_time": "2017-05-31T13:31:11.927052Z"
    },
    "hidden": true
   },
   "outputs": [
    {
     "data": {
      "text/plain": [
       "(500, 333)"
      ]
     },
     "execution_count": 13,
     "metadata": {},
     "output_type": "execute_result"
    }
   ],
   "source": [
    "img.size"
   ]
  },
  {
   "cell_type": "code",
   "execution_count": 14,
   "metadata": {
    "ExecuteTime": {
     "end_time": "2017-05-31T13:31:19.005801Z",
     "start_time": "2017-05-31T13:31:18.995938Z"
    },
    "hidden": true
   },
   "outputs": [],
   "source": [
    "img_arr = np.asarray(img).astype(float).transpose((2, 0, 1))"
   ]
  },
  {
   "cell_type": "code",
   "execution_count": 15,
   "metadata": {
    "ExecuteTime": {
     "end_time": "2017-05-31T13:31:22.480201Z",
     "start_time": "2017-05-31T13:31:22.471211Z"
    },
    "hidden": true
   },
   "outputs": [
    {
     "data": {
      "text/plain": [
       "(3, 333, 500)"
      ]
     },
     "execution_count": 15,
     "metadata": {},
     "output_type": "execute_result"
    }
   ],
   "source": [
    "img_arr.shape"
   ]
  },
  {
   "cell_type": "code",
   "execution_count": 16,
   "metadata": {
    "ExecuteTime": {
     "end_time": "2017-05-31T13:31:24.734326Z",
     "start_time": "2017-05-31T13:31:24.709026Z"
    },
    "hidden": true
   },
   "outputs": [],
   "source": [
    "img = torch.Tensor(img_arr)"
   ]
  },
  {
   "cell_type": "code",
   "execution_count": 17,
   "metadata": {
    "ExecuteTime": {
     "end_time": "2017-05-31T13:31:33.547821Z",
     "start_time": "2017-05-31T13:31:33.312880Z"
    },
    "hidden": true
   },
   "outputs": [
    {
     "data": {
      "text/plain": [
       "\n",
       "( 0 , 0 ,.,.) = \n",
       "   70   40   19  ...    78   46   33\n",
       "  196  213    4  ...    71  102   59\n",
       "   16   71   34  ...    41    9   56\n",
       "      ...         ⋱        ...      \n",
       "   78   46   77  ...    12   15   16\n",
       "   72  134   73  ...    19   26   21\n",
       "   79  100   42  ...    16   22   19\n",
       "\n",
       "( 0 , 1 ,.,.) = \n",
       "   29   17   21  ...   117   76   58\n",
       "  188  214   12  ...    91  122   83\n",
       "   49   96   51  ...    52   29   84\n",
       "      ...         ⋱        ...      \n",
       "  103   67   97  ...    14   17   18\n",
       "   88  151   92  ...    21   28   23\n",
       "   86  113   60  ...    18   24   21\n",
       "\n",
       "( 0 , 2 ,.,.) = \n",
       "   23    9    8  ...    88   48   26\n",
       "  177  200    0  ...    64   94   49\n",
       "   30   77   33  ...    22    0   43\n",
       "      ...         ⋱        ...      \n",
       "   38   10   46  ...    13   16   17\n",
       "   25   97   47  ...    20   27   22\n",
       "   32   67   22  ...    17   23   20\n",
       "[torch.FloatTensor of size 1x3x333x500]"
      ]
     },
     "execution_count": 17,
     "metadata": {},
     "output_type": "execute_result"
    }
   ],
   "source": [
    "img.view((1,) + img.size())"
   ]
  },
  {
   "cell_type": "code",
   "execution_count": 18,
   "metadata": {
    "ExecuteTime": {
     "end_time": "2017-05-31T13:31:45.560800Z",
     "start_time": "2017-05-31T13:31:45.555936Z"
    },
    "hidden": true
   },
   "outputs": [],
   "source": [
    "img_var = Variable(img.view((1,) + img.size()), volatile=True)"
   ]
  },
  {
   "cell_type": "code",
   "execution_count": 19,
   "metadata": {
    "ExecuteTime": {
     "end_time": "2017-05-31T13:31:47.427627Z",
     "start_time": "2017-05-31T13:31:46.178153Z"
    },
    "hidden": true
   },
   "outputs": [],
   "source": [
    "features = vgg(img_var)"
   ]
  },
  {
   "cell_type": "code",
   "execution_count": 20,
   "metadata": {
    "ExecuteTime": {
     "end_time": "2017-05-31T13:31:47.604740Z",
     "start_time": "2017-05-31T13:31:47.600590Z"
    },
    "hidden": true
   },
   "outputs": [
    {
     "data": {
      "text/plain": [
       "Variable containing:\n",
       "\n",
       "Columns 0 to 7 \n",
       "   0.0000    0.0000    0.0000    0.0000    0.0000    0.0000    0.0000    0.0000\n",
       "   0.0000    0.0000    0.0000    0.0000    0.0000    0.0000    0.0000    0.0000\n",
       "   0.0000    0.0000    0.0000    0.0000    0.0000    0.0000    0.0000    0.0000\n",
       "   0.0000    0.0000    0.0000    0.0000    0.0000    0.0000    0.0000    0.0000\n",
       "   0.0000    0.0000    0.0000    0.0000    0.0000    0.0000    0.0000    0.0000\n",
       "   0.0000    0.0000    0.0000    0.0000    0.0000    0.0000    0.0000    0.0000\n",
       "   0.0000    0.0000    0.0000    0.0000    0.0000    0.0000    0.0000    0.0000\n",
       "   0.0000    0.0000    0.0000    0.0000    0.0000    0.0000    0.0000    0.0000\n",
       "   0.0000    0.0000    0.0000    0.0000    0.0000    0.0000    0.0000    0.0000\n",
       "   0.0000    0.0000    0.0000    0.0000    0.0000    0.0000    0.0000    0.0000\n",
       "   0.0000    0.0000    0.0000    0.0000    0.0000    0.0000    0.0000    0.0000\n",
       "   0.0000    0.0000    0.0000    0.0000    0.0000    0.0000    0.0000    0.0000\n",
       "   0.0000    0.0000    0.0000    0.0000    0.0000    0.0000    0.0000    0.0000\n",
       "   0.0000    0.0000    0.0000    0.0000    0.0000    0.0000    0.0000    0.0000\n",
       "   0.0000    0.0000    0.0000    0.0000    0.0000    0.0000    0.0000    0.0000\n",
       "   0.0000    0.0000    0.0000    0.0000    0.0000    0.0000    0.0000    0.0000\n",
       "   0.0000    0.0000    0.0000    0.0000    0.0000    0.0000    0.0000    0.0000\n",
       "   0.0000    0.0000    0.0000    0.0000    0.0000    0.0000    0.0000    0.0000\n",
       "   0.0000    0.0000    0.0000    0.0000    0.0000    0.0000    0.0000    0.0000\n",
       "   0.0000    0.0000    1.8766    0.0000    0.0000    0.0000    0.0000    0.0000\n",
       "\n",
       "Columns 8 to 15 \n",
       "   0.0000    0.0000    0.0000    0.0000    0.0000    0.0000    0.0000    0.0000\n",
       "   0.0000    0.0000    0.0000    0.0000    0.0000    0.0000    0.0000    0.0000\n",
       "   0.0000    0.0000    0.0000    0.0000    0.0000    0.0000    0.0000    0.0000\n",
       "   0.0000    0.0000    0.0000    0.0000    0.0000    0.0000    0.0000    0.0000\n",
       "   0.0000    0.0000    0.0000    0.0000    0.0000    0.0000    0.0000    0.0000\n",
       "   0.0000    0.0000    0.0000    0.0000    0.0000    0.0000    0.0000    0.0000\n",
       "   0.0000    0.0000    0.0000    0.0000    0.0000    0.0000    0.0000    0.0000\n",
       "   0.0000    0.0000    0.0000    0.0000    0.0000    0.0000    0.0000    0.0000\n",
       "   0.0000    0.0000    0.0000    0.0000    0.0000    0.0000    0.0000    0.0000\n",
       "   0.0000    0.0000    0.0000    0.0000    0.0000    0.0000    0.0000    0.0000\n",
       "   0.0000    0.0000    0.0000    0.0000    0.0000    0.0000    0.0000    0.0000\n",
       "   0.0000    0.0000    0.0000    0.0000    0.0000    0.0000    0.0000    0.0000\n",
       "   0.0000    0.0000    0.0000    0.0000    0.0000    0.0000    0.0000    0.0000\n",
       "   0.0000    0.0000    0.0000    0.0000    0.0000    0.0000    0.0000    0.0000\n",
       "   0.0000    8.2812   48.9708   24.8600    9.7008    0.0000    0.0000    0.0000\n",
       "   0.0000    0.0000   24.0365   21.4013    0.5622    0.0000    0.0000    0.0000\n",
       "   0.0000    0.0000    0.0000    0.0000    0.0000    0.0000    0.0000    0.0000\n",
       "   0.0000    0.0000    0.0000    0.0000    0.0000    0.0000    0.0000    0.0000\n",
       "   0.0000    0.0000    0.0000    0.0000    0.0000    0.0000    0.0000    0.0000\n",
       "   0.0000    0.0000    0.0000    0.0000    0.0000    0.0000    0.0000    0.0000\n",
       "\n",
       "Columns 16 to 23 \n",
       "   0.0000    0.0000    0.0000    0.0000    0.0000    0.0000    0.0000    0.0000\n",
       "   0.0000    0.0000    0.0000    0.0000    0.0000    0.0000    0.0000    0.0000\n",
       "   0.0000    0.0000    0.0000    0.0000    0.0000    0.0000    0.0000    0.0000\n",
       "   0.0000    0.0000    0.0000    0.0000    0.0000    0.0000    0.0000    0.0000\n",
       "   0.0000    0.0000    0.0000    0.0000    0.0000    0.0000    0.0000    0.0000\n",
       "   0.0000    0.0000    0.0000    0.0000    0.0000    0.0000    0.0000    0.0000\n",
       "   0.0000    0.0000    0.0000    0.0000    0.0000    0.0000    0.0000    0.0000\n",
       "   0.0000    0.0000    0.0000    0.0000    0.0000    0.0000    0.0000    0.0000\n",
       "   0.0000    0.0000    0.0000    0.0000    0.0000    0.0000    0.0000    0.0000\n",
       "   0.0000    0.0000    0.0000    0.0000    0.0000    0.0000    0.0000    0.0000\n",
       "   0.0000    0.0000    0.0000    0.0000    0.0000    0.0000    0.0000    0.0000\n",
       "   0.0000    0.0000    0.0000    0.0000    0.0000    0.0000    0.0000    0.0000\n",
       "   0.0000    0.0000    0.0000    0.0000    0.0000    0.0000    0.0000    0.0000\n",
       "   0.0000    0.0000    0.0000    0.0000    0.0000    0.0000    0.0000    0.0000\n",
       "   0.0000    0.0000    0.0000    0.0000    0.0000    0.0000    0.0000    0.0000\n",
       "   0.0000    0.0000    0.0000    0.0000    0.0000    0.0000    0.0000    0.0000\n",
       "   0.0000    0.0000    0.0000    0.0000    0.0000    0.0000    0.0000    0.0000\n",
       "   0.0000    0.0000    0.0000    0.0000    0.0000    0.0000   41.4423   10.8883\n",
       "   0.0000    0.0000    0.0000    0.0000    0.0000   42.9769   54.4697    6.3027\n",
       "   0.0000    0.0000    0.0000   94.2240  146.4150   96.3327   46.4682    2.3835\n",
       "\n",
       "Columns 24 to 30 \n",
       "   0.0000    0.0000    0.0000    0.0000    0.0000    0.0000    0.0000\n",
       "   0.0000    0.0000    0.0000    0.0000    0.0000    0.0000    0.0000\n",
       "   0.0000    0.0000    0.0000    0.0000    0.0000    0.0000    0.0000\n",
       "   0.0000    0.0000    0.0000    0.0000    0.0000    0.0000    0.0000\n",
       "   0.0000    0.0000    0.0000    0.0000    0.0000    0.0000    0.0000\n",
       "   0.0000    0.0000    0.0000    0.0000    0.0000    0.0000    0.0000\n",
       "   0.0000    0.0000    0.0000    0.0000    0.0000    0.0000    0.0000\n",
       "   0.0000    0.0000    0.0000    0.0000    0.0000    0.0000    0.0000\n",
       "   0.0000    0.0000    0.0000    0.0000    0.0000    0.0000    0.0000\n",
       "   0.0000    0.0000    0.0000    0.0000    0.0000    0.0000    0.0000\n",
       "   0.0000    0.0000    0.0000    0.0000    0.0000    0.0000    0.0000\n",
       "   0.0000    0.0000    0.0000    0.0000    0.0000    0.0000    0.0000\n",
       "   0.0000    0.0000    0.0000    0.0000    0.0000    0.0000    0.0000\n",
       "   0.0000    0.0000    0.0000    0.0000    0.0000    0.0000    0.0000\n",
       "   0.0000    0.0000    0.0000    0.0000    0.0000    0.0000    0.0000\n",
       "   0.0000    0.0000    0.0000    0.0000    0.0000    0.0000    0.0000\n",
       "   0.0000    0.0000    0.0000    0.0000    0.0000    0.0000    0.0000\n",
       "   0.0000    0.0000    0.0000    0.0000    0.0000    0.0000    0.0000\n",
       "   0.0000    0.0000    0.0000    0.0000    6.3291    1.9336    7.5315\n",
       "   0.0000    0.0000    0.0000    0.0000    5.9218    0.0000    0.0000\n",
       "[torch.FloatTensor of size 20x31]"
      ]
     },
     "execution_count": 20,
     "metadata": {},
     "output_type": "execute_result"
    }
   ],
   "source": [
    "features[0, 0]"
   ]
  },
  {
   "cell_type": "code",
   "execution_count": 21,
   "metadata": {
    "ExecuteTime": {
     "end_time": "2017-05-31T13:31:55.105477Z",
     "start_time": "2017-05-31T13:31:55.099296Z"
    },
    "hidden": true
   },
   "outputs": [],
   "source": [
    "roi_pooling = RoIPool_GPU(7, 7,\n",
    "                        spatial_scale=1. / 16)\n"
   ]
  },
  {
   "cell_type": "code",
   "execution_count": 22,
   "metadata": {
    "ExecuteTime": {
     "end_time": "2017-05-31T13:31:56.390216Z",
     "start_time": "2017-05-31T13:31:56.384322Z"
    },
    "hidden": true
   },
   "outputs": [
    {
     "data": {
      "text/plain": [
       "{'edgeitems': 3,\n",
       " 'formatter': None,\n",
       " 'infstr': 'inf',\n",
       " 'linewidth': 100,\n",
       " 'nanstr': 'nan',\n",
       " 'precision': 4,\n",
       " 'suppress': False,\n",
       " 'threshold': 1000}"
      ]
     },
     "execution_count": 22,
     "metadata": {},
     "output_type": "execute_result"
    }
   ],
   "source": [
    "np.get_printoptions()"
   ]
  },
  {
   "cell_type": "code",
   "execution_count": 43,
   "metadata": {
    "ExecuteTime": {
     "end_time": "2017-05-31T13:36:07.254189Z",
     "start_time": "2017-05-31T13:36:07.249106Z"
    },
    "hidden": true
   },
   "outputs": [],
   "source": [
    "np.set_printoptions(threshold=np.inf)\n",
    "np.set_printoptions(linewidth=180)\n"
   ]
  },
  {
   "cell_type": "code",
   "execution_count": 44,
   "metadata": {
    "ExecuteTime": {
     "end_time": "2017-05-31T13:36:07.699972Z",
     "start_time": "2017-05-31T13:36:07.693108Z"
    },
    "hidden": true,
    "scrolled": false
   },
   "outputs": [
    {
     "data": {
      "text/plain": [
       "array([[  0,   0,   0,   0,   0,   0,   0,   0,   0,   0,   0,   0,   0,   0,   0,   0,   0,   0,   0,   0,   0,   0,   0,   0,   0,   0,   0,   0,   0,   0,   0],\n",
       "       [  0,   0,   0,   0,   0,   0,   0,   0,   0,   0,   0,   0,   0,   0,   0,   0,   0,   0,   0,   0,   0,   0,   0,   0,   0,   0,   0,   0,   0,   0,   0],\n",
       "       [  0,   0,   0,   0,   0,   0,   0,   0,   0,   0,   0,   0,   0,   0,   0,   0,   0,   0,   0,   0,   0,   0,   0,   0,   0,   0,   0,   0,   0,   0,   0],\n",
       "       [  0,   0,   0,   0,   0,   0,   0,   0,   0,   0,   0,   0,   0,   0,   0,   0,   0,   0,   0,   0,   0,   0,   0,   0,   0,   0,   0,   0,   0,   0,   0],\n",
       "       [  0,   0,   0,   0,   0,   0,   0,   0,   0,   0,   0,   0,   0,   0,   0,   0,   0,   0,   0,   0,   0,   0,   0,   0,   0,   0,   0,   0,   0,   0,   0],\n",
       "       [  0,   0,   0,   0,   0,   0,   0,   0,   0,   0,   0,   0,   0,   0,   0,   0,   0,   0,   0,   0,   0,   0,   0,   0,   0,   0,   0,   0,   0,   0,   0],\n",
       "       [  0,   0,   0,   0,   0,   0,   0,   0,   0,   0,   0,   0,   0,   0,   0,   0,   0,   0,   0,   0,   0,   0,   0,   0,   0,   0,   0,   0,   0,   0,   0],\n",
       "       [  0,   0,   0,   0,   0,   0,   0,   0,   0,   0,   0,   0,   0,   0,   0,   0,   0,   0,   0,   0,   0,   0,   0,   0,   0,   0,   0,   0,   0,   0,   0],\n",
       "       [  0,   0,   0,   0,   0,   0,   0,   0,   0,   0,   0,   0,   0,   0,   0,   0,   0,   0,   0,   0,   0,   0,   0,   0,   0,   0,   0,   0,   0,   0,   0],\n",
       "       [  0,   0,   0,   0,   0,   0,   0,   0,   0,   0,   0,   0,   0,   0,   0,   0,   0,   0,   0,   0,   0,   0,   0,   0,   0,   0,   0,   0,   0,   0,   0],\n",
       "       [  0,   0,   0,   0,   0,   0,   0,   0,   0,   0,   0,   0,   0,   0,   0,   0,   0,   0,   0,   0,   0,   0,   0,   0,   0,   0,   0,   0,   0,   0,   0],\n",
       "       [  0,   0,   0,   0,   0,   0,   0,   0,   0,   0,   0,   0,   0,   0,   0,   0,   0,   0,   0,   0,   0,   0,   0,   0,   0,   0,   0,   0,   0,   0,   0],\n",
       "       [  0,   0,   0,   0,   0,   0,   0,   0,   0,   0,   0,   0,   0,   0,   0,   0,   0,   0,   0,   0,   0,   0,   0,   0,   0,   0,   0,   0,   0,   0,   0],\n",
       "       [  0,   0,   0,   0,   0,   0,   0,   0,   0,   0,   0,   0,   0,   0,   0,   0,   0,   0,   0,   0,   0,   0,   0,   0,   0,   0,   0,   0,   0,   0,   0],\n",
       "       [  0,   0,   0,   0,   0,   0,   0,   0,   0,   8,  48,  24,   9,   0,   0,   0,   0,   0,   0,   0,   0,   0,   0,   0,   0,   0,   0,   0,   0,   0,   0],\n",
       "       [  0,   0,   0,   0,   0,   0,   0,   0,   0,   0,  24,  21,   0,   0,   0,   0,   0,   0,   0,   0,   0,   0,   0,   0,   0,   0,   0,   0,   0,   0,   0],\n",
       "       [  0,   0,   0,   0,   0,   0,   0,   0,   0,   0,   0,   0,   0,   0,   0,   0,   0,   0,   0,   0,   0,   0,   0,   0,   0,   0,   0,   0,   0,   0,   0],\n",
       "       [  0,   0,   0,   0,   0,   0,   0,   0,   0,   0,   0,   0,   0,   0,   0,   0,   0,   0,   0,   0,   0,   0,  41,  10,   0,   0,   0,   0,   0,   0,   0],\n",
       "       [  0,   0,   0,   0,   0,   0,   0,   0,   0,   0,   0,   0,   0,   0,   0,   0,   0,   0,   0,   0,   0,  42,  54,   6,   0,   0,   0,   0,   6,   1,   7],\n",
       "       [  0,   0,   1,   0,   0,   0,   0,   0,   0,   0,   0,   0,   0,   0,   0,   0,   0,   0,   0,  94, 146,  96,  46,   2,   0,   0,   0,   0,   5,   0,   0]])"
      ]
     },
     "execution_count": 44,
     "metadata": {},
     "output_type": "execute_result"
    }
   ],
   "source": [
    "features[0][0].data.numpy().astype(int)"
   ]
  },
  {
   "cell_type": "code",
   "execution_count": 46,
   "metadata": {
    "ExecuteTime": {
     "end_time": "2017-05-31T13:36:25.245850Z",
     "start_time": "2017-05-31T13:36:25.241246Z"
    },
    "hidden": true
   },
   "outputs": [
    {
     "data": {
      "text/plain": [
       "(20, 31)"
      ]
     },
     "execution_count": 46,
     "metadata": {},
     "output_type": "execute_result"
    }
   ],
   "source": [
    "features[0][0].data.numpy().shape"
   ]
  },
  {
   "cell_type": "code",
   "execution_count": 49,
   "metadata": {
    "ExecuteTime": {
     "end_time": "2017-05-31T13:37:04.879570Z",
     "start_time": "2017-05-31T13:37:04.873692Z"
    },
    "hidden": true
   },
   "outputs": [
    {
     "data": {
      "text/plain": [
       "array([320, 496])"
      ]
     },
     "execution_count": 49,
     "metadata": {},
     "output_type": "execute_result"
    }
   ],
   "source": [
    "np.array([ 20, 31 ]) * 16"
   ]
  },
  {
   "cell_type": "code",
   "execution_count": 61,
   "metadata": {
    "ExecuteTime": {
     "end_time": "2017-05-31T13:44:46.460455Z",
     "start_time": "2017-05-31T13:44:46.456726Z"
    },
    "hidden": true
   },
   "outputs": [],
   "source": [
    "rois = Variable(torch.Tensor(np.array([[0., 0., 0., 320., 496.]])))"
   ]
  },
  {
   "cell_type": "code",
   "execution_count": 62,
   "metadata": {
    "ExecuteTime": {
     "end_time": "2017-05-31T13:44:47.512841Z",
     "start_time": "2017-05-31T13:44:47.506288Z"
    },
    "hidden": true
   },
   "outputs": [
    {
     "data": {
      "text/plain": [
       "Variable containing:\n",
       "   3.2646  104.9033   20.1432    0.0000   69.3347   29.1211   56.3171\n",
       "   0.0000  104.9033   91.3464   79.4286   98.9582    0.0000    0.0000\n",
       "  38.0952   26.8189   91.3464    0.0000   34.1073   13.8398    0.0000\n",
       "  38.0952    0.0000   60.9711  150.7188  107.3427    0.0000    0.0000\n",
       "   0.0000    0.0000    0.0000    0.0000    0.0000    0.0000    0.0000\n",
       "   0.0000    0.0000    0.0000    0.0000    0.0000    0.0000    0.0000\n",
       "   0.0000    0.0000    0.0000    0.0000    0.0000    0.0000    0.0000\n",
       "[torch.FloatTensor of size 7x7]"
      ]
     },
     "execution_count": 62,
     "metadata": {},
     "output_type": "execute_result"
    }
   ],
   "source": [
    "roi_pooling.forward(features, rois)[0][0]"
   ]
  },
  {
   "cell_type": "code",
   "execution_count": 63,
   "metadata": {
    "ExecuteTime": {
     "end_time": "2017-05-31T13:44:48.975888Z",
     "start_time": "2017-05-31T13:44:48.969876Z"
    },
    "hidden": true
   },
   "outputs": [],
   "source": [
    "roi_pool_cpu = RoIPool_CPU(7, 7, 1./16)"
   ]
  },
  {
   "cell_type": "code",
   "execution_count": 64,
   "metadata": {
    "ExecuteTime": {
     "end_time": "2017-05-31T13:44:49.602924Z",
     "start_time": "2017-05-31T13:44:49.590577Z"
    },
    "hidden": true
   },
   "outputs": [
    {
     "data": {
      "text/plain": [
       "Variable containing:\n",
       "   0.0000    0.0000    0.0000    0.0000    0.0000    0.0000    0.0000\n",
       "   0.0000    0.0000    0.0000    0.0000    0.0000    0.0000    0.0000\n",
       "   0.0000    0.0000    0.0000    0.0000    0.0000    0.0000    0.0000\n",
       "   0.0000    0.0000    0.0000   48.9708    9.7008    0.0000    0.0000\n",
       "   1.8766    0.0000    0.0000    0.0000    0.0000    0.0000  146.4150\n",
       "   0.0000    0.0000    0.0000    0.0000    0.0000    0.0000    0.0000\n",
       "   0.0000    0.0000    0.0000    0.0000    0.0000    0.0000    0.0000\n",
       "[torch.cuda.FloatTensor of size 7x7 (GPU 0)]"
      ]
     },
     "execution_count": 64,
     "metadata": {},
     "output_type": "execute_result"
    }
   ],
   "source": [
    "# if True:\n",
    "#     Tracer()()\n",
    "roi_pool_cpu.forward(features, rois)[0][0]"
   ]
  },
  {
   "cell_type": "code",
   "execution_count": 65,
   "metadata": {
    "ExecuteTime": {
     "end_time": "2017-05-31T13:44:51.788437Z",
     "start_time": "2017-05-31T13:44:51.779200Z"
    },
    "hidden": true
   },
   "outputs": [
    {
     "data": {
      "text/plain": [
       "Variable containing:\n",
       "   0.0000    0.0000    0.0000    0.0000    0.0000    0.0000    0.0000\n",
       "   0.0000    0.0000    0.0000    0.0000    0.0000    0.0000    0.0000\n",
       "   0.0000    0.0000    0.0000    0.0000    0.0000    0.0000    0.0000\n",
       "   0.0000    0.0000    0.0000    0.0000    0.0000    0.0000    0.0000\n",
       "   0.0000    0.0000   48.9708    0.0000    0.0000    0.0000    0.0000\n",
       "   0.0000    0.0000   48.9708    0.0000   41.4423   41.4423    0.0000\n",
       "   1.8766    0.0000    0.0000    0.0000  146.4150   54.4697    7.5315\n",
       "[torch.FloatTensor of size 7x7]"
      ]
     },
     "execution_count": 65,
     "metadata": {},
     "output_type": "execute_result"
    }
   ],
   "source": [
    "F.adaptive_max_pool2d(features, (7, 7))[0][0]"
   ]
  },
  {
   "cell_type": "code",
   "execution_count": 37,
   "metadata": {
    "ExecuteTime": {
     "end_time": "2017-05-31T13:34:14.761829Z",
     "start_time": "2017-05-31T13:34:14.756485Z"
    },
    "hidden": true
   },
   "outputs": [
    {
     "data": {
      "text/plain": [
       "torch.Size([1, 512, 20, 31])"
      ]
     },
     "execution_count": 37,
     "metadata": {},
     "output_type": "execute_result"
    }
   ],
   "source": [
    "features.size()"
   ]
  },
  {
   "cell_type": "code",
   "execution_count": 30,
   "metadata": {
    "ExecuteTime": {
     "end_time": "2017-05-31T13:33:34.726789Z",
     "start_time": "2017-05-31T13:33:34.718507Z"
    },
    "hidden": true
   },
   "outputs": [],
   "source": [
    "from roi_pooling.modules.roi_pool_py import RoIPool as RoIPool_CPU\n"
   ]
  },
  {
   "cell_type": "markdown",
   "metadata": {
    "heading_collapsed": true
   },
   "source": [
    "## Load Data"
   ]
  },
  {
   "cell_type": "code",
   "execution_count": 3,
   "metadata": {
    "ExecuteTime": {
     "end_time": "2017-05-31T13:30:28.745454Z",
     "start_time": "2017-05-31T13:30:27.642000Z"
    },
    "hidden": true
   },
   "outputs": [
    {
     "name": "stdout",
     "output_type": "stream",
     "text": [
      "Loaded from cache.\n"
     ]
    }
   ],
   "source": [
    "try:\n",
    "    del train_set\n",
    "    del train_loader\n",
    "except:\n",
    "    pass\n",
    "cfg.DATA_DIR = '../VOC/'\n",
    "devkit_path = os.path.join(cfg.DATA_DIR, 'VOCdevkit/')\n",
    "train_set = Pascal_roidb(devkit_path, 'trainval', '2007', \n",
    "                        shuffle_samples=True)\n",
    "\n",
    "train_loader = torch.utils.data.DataLoader(\n",
    "    train_set, batch_size=1, shuffle=False, num_workers=2)\n"
   ]
  },
  {
   "cell_type": "markdown",
   "metadata": {
    "heading_collapsed": true,
    "hidden": true
   },
   "source": [
    "#### the other data loader"
   ]
  },
  {
   "cell_type": "code",
   "execution_count": 3,
   "metadata": {
    "ExecuteTime": {
     "end_time": "2017-05-25T19:12:05.186024Z",
     "start_time": "2017-05-25T19:12:04.182646Z"
    },
    "hidden": true
   },
   "outputs": [],
   "source": [
    "try:\n",
    "    del train_set\n",
    "    del train_loader\n",
    "except:\n",
    "    pass\n",
    "train_set = Pascal_VOC(data_path='../VOC/VOCdevkit/', \n",
    "                           year='2007', set_name='trainval')\n",
    "\n",
    "train_loader = torch.utils.data.DataLoader(\n",
    "    train_set, batch_size=1, shuffle=False, num_workers=2)\n"
   ]
  },
  {
   "cell_type": "markdown",
   "metadata": {
    "heading_collapsed": true
   },
   "source": [
    "## Fast RCNN after conv layers"
   ]
  },
  {
   "cell_type": "code",
   "execution_count": 4,
   "metadata": {
    "ExecuteTime": {
     "end_time": "2017-05-30T20:11:51.748455Z",
     "start_time": "2017-05-30T20:11:41.106487Z"
    },
    "hidden": true
   },
   "outputs": [],
   "source": [
    "try:\n",
    "    del fast_rcnn_model\n",
    "except NameError:\n",
    "    pass\n",
    "\n",
    "fast_rcnn_model = Fast_RCNN_model(dropout_p=0.5).cuda()\n",
    "fast_rcnn_weights_init(fast_rcnn_model)"
   ]
  },
  {
   "cell_type": "code",
   "execution_count": 5,
   "metadata": {
    "ExecuteTime": {
     "end_time": "2017-05-30T20:11:53.232431Z",
     "start_time": "2017-05-30T20:11:51.749387Z"
    },
    "hidden": true
   },
   "outputs": [
    {
     "data": {
      "text/plain": [
       "(torch.Size([64, 21]), torch.Size([64, 84]))"
      ]
     },
     "execution_count": 5,
     "metadata": {},
     "output_type": "execute_result"
    }
   ],
   "source": [
    "# test\n",
    "batch = next(train_loader.__iter__())\n",
    "index, _, rois, targets, labels, preds_weights = [item[0] for item in batch]\n",
    "image = batch[1]\n",
    "\n",
    "image_var = Variable(image.cuda())\n",
    "rois_var = Variable(rois.float().cuda())\n",
    "out = fast_rcnn_model.forward(image_var, rois_var)\n",
    "out[0].size(), out[1].size()"
   ]
  }
 ],
 "metadata": {
  "kernelspec": {
   "display_name": "Python [default]",
   "language": "python",
   "name": "python3"
  },
  "language_info": {
   "codemirror_mode": {
    "name": "ipython",
    "version": 3
   },
   "file_extension": ".py",
   "mimetype": "text/x-python",
   "name": "python",
   "nbconvert_exporter": "python",
   "pygments_lexer": "ipython3",
   "version": "3.6.0"
  },
  "notify_time": "5",
  "varInspector": {
   "cols": {
    "lenName": 16,
    "lenType": 16,
    "lenVar": 40
   },
   "kernels_config": {
    "python": {
     "delete_cmd_postfix": "",
     "delete_cmd_prefix": "del ",
     "library": "var_list.py",
     "varRefreshCmd": "print(var_dic_list())"
    },
    "r": {
     "delete_cmd_postfix": ") ",
     "delete_cmd_prefix": "rm(",
     "library": "var_list.r",
     "varRefreshCmd": "cat(var_dic_list()) "
    }
   },
   "types_to_exclude": [
    "module",
    "function",
    "builtin_function_or_method",
    "instance",
    "_Feature"
   ],
   "window_display": false
  }
 },
 "nbformat": 4,
 "nbformat_minor": 2
}
