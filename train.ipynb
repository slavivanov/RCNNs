{
 "cells": [
  {
   "cell_type": "code",
   "execution_count": 1,
   "metadata": {
    "ExecuteTime": {
     "end_time": "2017-05-16T07:42:56.935133Z",
     "start_time": "2017-05-16T07:42:55.995425Z"
    }
   },
   "outputs": [],
   "source": [
    "import sys\n",
    "import os\n",
    "import importlib\n",
    "import shutil\n",
    "import numpy as np\n",
    "import threading\n",
    "# import keras\n",
    "import tqdm\n",
    "from concurrent.futures import ThreadPoolExecutor, ProcessPoolExecutor\n",
    "\n",
    "import selectivesearch\n",
    "importlib.reload(selectivesearch)\n",
    "from selectivesearch import get_selective_search_regions\n",
    "\n",
    "import PIL\n",
    "\n",
    "import utils\n",
    "importlib.reload(utils)\n",
    "from utils import *\n",
    "\n",
    "import pascal_voc_reader\n",
    "\n",
    "import bbox_transform\n",
    "importlib.reload(bbox_transform)\n",
    "from bbox_transform import *\n",
    "\n",
    "import torch\n",
    "import torchvision\n",
    "from torch.autograd import Variable\n",
    "import torch.nn as nn\n",
    "import torch.nn.init as weight_init\n",
    "import torch.nn.functional as F\n",
    "\n",
    "import rcnn_utils\n",
    "importlib.reload(rcnn_utils)\n",
    "from rcnn_utils import *\n",
    "\n",
    "import data_utils\n",
    "importlib.reload(data_utils)\n",
    "from data_utils import *\n",
    "\n",
    "from IPython.core.debugger import Tracer\n",
    "from IPython.display import clear_output\n",
    "\n",
    "%matplotlib inline\n",
    "\n",
    "from roi_pooling.modules.roi_pool import RoIPool as RoIPool_GPU"
   ]
  },
  {
   "cell_type": "markdown",
   "metadata": {},
   "source": [
    "## Load Data"
   ]
  },
  {
   "cell_type": "code",
   "execution_count": null,
   "metadata": {},
   "outputs": [],
   "source": [
    "image_size = (500, 500)\n",
    "dataset = RCNN_All_Data(image_size)\n",
    "trn_dataset = RCNN_Set(dataset, 'train')\n",
    "val_dataset = RCNN_Set(dataset, 'valid')"
   ]
  },
  {
   "cell_type": "markdown",
   "metadata": {},
   "source": [
    "## Fast RCNN after conv layers"
   ]
  },
  {
   "cell_type": "code",
   "execution_count": null,
   "metadata": {},
   "outputs": [],
   "source": [
    "try:\n",
    "    del fast_rcnn_model\n",
    "except NameError:\n",
    "    pass\n",
    "\n",
    "fast_rcnn_model = Fast_RCNN_model(dropout_p=0.1).cuda()\n",
    "fast_rcnn_weights_init(fast_rcnn_model)"
   ]
  },
  {
   "cell_type": "code",
   "execution_count": null,
   "metadata": {},
   "outputs": [],
   "source": [
    "# test\n",
    "batch = get_batch(use_features=True,\n",
    "                  images_per_batch=1,\n",
    "                  roi_batch_size=64,\n",
    "                  loop_over=False)\n",
    "cnn_features, rois, targets = batch\n",
    "\n",
    "cnn_features_var = np_to_var(cnn_features.astype(np.float32))\n",
    "rois_var = np_to_var(rois.astype(np.int32))\n",
    "\n",
    "out = fast_rcnn_model.forward(cnn_features_var, rois_var)\n",
    "\n",
    "out[0].size(), out[1].size()"
   ]
  },
  {
   "cell_type": "markdown",
   "metadata": {},
   "source": [
    "## Train loop"
   ]
  },
  {
   "cell_type": "code",
   "execution_count": 9,
   "metadata": {
    "ExecuteTime": {
     "end_time": "2017-05-15T14:27:09.057358Z",
     "start_time": "2017-05-15T14:27:08.968988Z"
    }
   },
   "outputs": [],
   "source": [
    "def train(net, loss_criterion, optimizer, epoch=1, print_every=10):\n",
    "    net.train()\n",
    "    total_loss = 0\n",
    "    total_acc = 0\n",
    "    images_per_batch = 1\n",
    "    roi_batch_size = 64\n",
    "    n_batches = (len(train_samples) // images_per_batch)\n",
    "    for epoch_index in range(epoch):\n",
    "        t = tqdm.tqdm_notebook(total=n_batches)\n",
    "        batch_index = 1\n",
    "        while True:\n",
    "            batch = get_batch(images_per_batch=images_per_batch,\n",
    "                              roi_batch_size=roi_batch_size,\n",
    "                              use_features=True, loop_over=False)\n",
    "            images, rois, targets = batch\n",
    "            if len(images) == 0 or len(rois) == 0 or len(targets) == 0:\n",
    "                reset_index('train')\n",
    "                break\n",
    "\n",
    "            images_var = np_to_var(images.astype(np.float32))\n",
    "            # images_var = Variable(images.cuda())\n",
    "            rois_var = np_to_var(rois.astype(np.int32))\n",
    "            targets_var = np_to_var(targets)\n",
    "\n",
    "            # Clear Gradients\n",
    "            optimizer.zero_grad()\n",
    "\n",
    "            # Forward Pass\n",
    "            output = net(images_var, rois_var)\n",
    "\n",
    "            loss = loss_criterion(output, targets_var)\n",
    "\n",
    "            # Backprop\n",
    "            loss.backward()\n",
    "            optimizer.step()\n",
    "\n",
    "            # preds = get_predictions(output)\n",
    "            accuracy = 0  # = get_accuracy(preds, targets.data.cpu().numpy())\n",
    "\n",
    "            total_loss += loss.data[0]\n",
    "            current_mean_loss = total_loss / \\\n",
    "                (batch_index + n_batches * epoch_index)\n",
    "            if (batch_index + 1) % print_every == 0:\n",
    "                clear_output()\n",
    "                print(current_mean_loss, end=' ')\n",
    "\n",
    "            total_acc += accuracy\n",
    "            batch_index += 1\n",
    "            t.update()\n",
    "        t.close()\n",
    "        mean_loss = total_loss / n_batches\n",
    "        mean_acc = total_acc / n_batches\n",
    "    return mean_loss, mean_acc\n",
    "\n",
    "\n",
    "def get_predictions(model_output):\n",
    "    # Flatten and Get ArgMax to compute accuracy\n",
    "    #     val,idx = torch.max(model_output, dim=1)\n",
    "    #     return idx.data.cpu().view(-1).numpy()\n",
    "    pass\n",
    "\n",
    "\n",
    "def get_accuracy(preds, targets):\n",
    "    pass"
   ]
  },
  {
   "cell_type": "markdown",
   "metadata": {},
   "source": [
    "#### Run the training"
   ]
  },
  {
   "cell_type": "code",
   "execution_count": null,
   "metadata": {},
   "outputs": [],
   "source": [
    "saved_path = 'intermediate/voc/weights-regression-300.pth'\n",
    "load_weights(fast_rcnn_model, saved_path)"
   ]
  },
  {
   "cell_type": "code",
   "execution_count": null,
   "metadata": {},
   "outputs": [],
   "source": [
    "reset_index('train')\n",
    "learning_rate = 1e-3\n",
    "optimizer = torch.optim.Adam(fast_rcnn_model.parameters(), lr=learning_rate)\n",
    "train(fast_rcnn_model, loss_criterion, optimizer, epoch=100)"
   ]
  },
  {
   "cell_type": "code",
   "execution_count": null,
   "metadata": {},
   "outputs": [],
   "source": [
    "reset_index('train')\n",
    "learning_rate = 1e-4\n",
    "optimizer = torch.optim.Adam(fast_rcnn_model.parameters(), lr=learning_rate)\n",
    "train(fast_rcnn_model, loss_criterion, optimizer, epoch=100)"
   ]
  },
  {
   "cell_type": "code",
   "execution_count": null,
   "metadata": {},
   "outputs": [],
   "source": [
    "reset_index('train')\n",
    "learning_rate = 1e-5\n",
    "optimizer = torch.optim.Adam(fast_rcnn_model.parameters(), lr=learning_rate)\n",
    "train(fast_rcnn_model, loss_criterion, optimizer, epoch=100)"
   ]
  },
  {
   "cell_type": "code",
   "execution_count": null,
   "metadata": {},
   "outputs": [],
   "source": [
    "reset_index('train')\n",
    "learning_rate = 1e-6\n",
    "optimizer = torch.optim.Adam(fast_rcnn_model.parameters(), lr=learning_rate)\n",
    "train(fast_rcnn_model, loss_criterion, optimizer, epoch=100)"
   ]
  },
  {
   "cell_type": "code",
   "execution_count": null,
   "metadata": {},
   "outputs": [],
   "source": [
    "saved_path = save_weights(fast_rcnn_model, 'intermediate/voc', 300)\n",
    "saved_path"
   ]
  },
  {
   "cell_type": "markdown",
   "metadata": {},
   "source": [
    "#### Test the net"
   ]
  },
  {
   "cell_type": "code",
   "execution_count": null,
   "metadata": {},
   "outputs": [],
   "source": [
    "batch = get_batch('valid',\n",
    "                  images_per_batch=1,\n",
    "                  roi_batch_size=64,\n",
    "                  use_features=True, loop_over=False)\n",
    "images, rois, targets = batch\n",
    "\n",
    "images_var = np_to_var(images.astype(np.float32))\n",
    "# images_var = Variable(images.cuda())\n",
    "\n",
    "rois_var = np_to_var(rois.astype(np.int32))\n",
    "targets_var = np_to_var(targets)\n",
    "\n",
    "out = fast_rcnn_model(images_var, rois_var)\n",
    "\n",
    "probas, indexes = torch.max(out[0], 1)\n",
    "indexes_np = np.squeeze(indexes.data.cpu().numpy())\n",
    "non_bg_rois_indexes = (indexes_np > 0)\n",
    "'Total Detected: ', np.sum(non_bg_rois_indexes)\n",
    "\n",
    "non_bg_rois = rois_var.data.cpu().numpy()[non_bg_rois_indexes]\n",
    "\n",
    "detected_roi = np.append(non_bg_rois[:, 1:],\n",
    "                         indexes_np[non_bg_rois_indexes][:, None],\n",
    "                         axis=1)\n",
    "\n",
    "detected_roi.shape\n",
    "\n",
    "image_arr = valid_samples[valid_index[0] - 1]\n",
    "image = PIL.Image.fromarray(image_arr.astype('uint8'))\n",
    "\n",
    "for class_id in detected_roi[:, 4]:\n",
    "    print(class_id_to_name[class_id])\n",
    "\n",
    "display_image_regions(image, detected_roi)"
   ]
  }
 ],
 "metadata": {
  "kernelspec": {
   "display_name": "Python 3",
   "language": "python",
   "name": "python3"
  },
  "language_info": {
   "codemirror_mode": {
    "name": "ipython",
    "version": 3
   },
   "file_extension": ".py",
   "mimetype": "text/x-python",
   "name": "python",
   "nbconvert_exporter": "python",
   "pygments_lexer": "ipython3",
   "version": "3.6.0"
  },
  "notify_time": "5",
  "varInspector": {
   "cols": {
    "lenName": 16,
    "lenType": 16,
    "lenVar": 40
   },
   "kernels_config": {
    "python": {
     "delete_cmd_postfix": "",
     "delete_cmd_prefix": "del ",
     "library": "var_list.py",
     "varRefreshCmd": "print(var_dic_list())"
    },
    "r": {
     "delete_cmd_postfix": ") ",
     "delete_cmd_prefix": "rm(",
     "library": "var_list.r",
     "varRefreshCmd": "cat(var_dic_list()) "
    }
   },
   "types_to_exclude": [
    "module",
    "function",
    "builtin_function_or_method",
    "instance",
    "_Feature"
   ],
   "window_display": false
  }
 },
 "nbformat": 4,
 "nbformat_minor": 2
}
